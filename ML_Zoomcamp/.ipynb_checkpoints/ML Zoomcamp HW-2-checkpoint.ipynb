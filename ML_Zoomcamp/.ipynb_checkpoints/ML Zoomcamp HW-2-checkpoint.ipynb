{
 "cells": [
  {
   "cell_type": "code",
   "execution_count": 3,
   "id": "7c5b700d-63a7-493b-8bd4-a4036cca2273",
   "metadata": {},
   "outputs": [],
   "source": [
    "import pandas as pd\n",
    "import numpy as np"
   ]
  },
  {
   "cell_type": "code",
   "execution_count": 124,
   "id": "4381a005-e63a-4ada-9ce6-86ba4991d564",
   "metadata": {},
   "outputs": [],
   "source": [
    "data = pd.read_csv(r'C:\\Users\\user\\Downloads\\car_fuel_efficiency (1).csv')"
   ]
  },
  {
   "cell_type": "code",
   "execution_count": 7,
   "id": "a2494850-8433-431f-ab3e-a1a4477198bf",
   "metadata": {},
   "outputs": [
    {
     "data": {
      "text/html": [
       "<div>\n",
       "<style scoped>\n",
       "    .dataframe tbody tr th:only-of-type {\n",
       "        vertical-align: middle;\n",
       "    }\n",
       "\n",
       "    .dataframe tbody tr th {\n",
       "        vertical-align: top;\n",
       "    }\n",
       "\n",
       "    .dataframe thead th {\n",
       "        text-align: right;\n",
       "    }\n",
       "</style>\n",
       "<table border=\"1\" class=\"dataframe\">\n",
       "  <thead>\n",
       "    <tr style=\"text-align: right;\">\n",
       "      <th></th>\n",
       "      <th>engine_displacement</th>\n",
       "      <th>num_cylinders</th>\n",
       "      <th>horsepower</th>\n",
       "      <th>vehicle_weight</th>\n",
       "      <th>acceleration</th>\n",
       "      <th>model_year</th>\n",
       "      <th>origin</th>\n",
       "      <th>fuel_type</th>\n",
       "      <th>drivetrain</th>\n",
       "      <th>num_doors</th>\n",
       "      <th>fuel_efficiency_mpg</th>\n",
       "    </tr>\n",
       "  </thead>\n",
       "  <tbody>\n",
       "    <tr>\n",
       "      <th>0</th>\n",
       "      <td>170</td>\n",
       "      <td>3.0</td>\n",
       "      <td>159.0</td>\n",
       "      <td>3413.433759</td>\n",
       "      <td>17.7</td>\n",
       "      <td>2003</td>\n",
       "      <td>Europe</td>\n",
       "      <td>Gasoline</td>\n",
       "      <td>All-wheel drive</td>\n",
       "      <td>0.0</td>\n",
       "      <td>13.231729</td>\n",
       "    </tr>\n",
       "    <tr>\n",
       "      <th>1</th>\n",
       "      <td>130</td>\n",
       "      <td>5.0</td>\n",
       "      <td>97.0</td>\n",
       "      <td>3149.664934</td>\n",
       "      <td>17.8</td>\n",
       "      <td>2007</td>\n",
       "      <td>USA</td>\n",
       "      <td>Gasoline</td>\n",
       "      <td>Front-wheel drive</td>\n",
       "      <td>0.0</td>\n",
       "      <td>13.688217</td>\n",
       "    </tr>\n",
       "    <tr>\n",
       "      <th>2</th>\n",
       "      <td>170</td>\n",
       "      <td>NaN</td>\n",
       "      <td>78.0</td>\n",
       "      <td>3079.038997</td>\n",
       "      <td>15.1</td>\n",
       "      <td>2018</td>\n",
       "      <td>Europe</td>\n",
       "      <td>Gasoline</td>\n",
       "      <td>Front-wheel drive</td>\n",
       "      <td>0.0</td>\n",
       "      <td>14.246341</td>\n",
       "    </tr>\n",
       "    <tr>\n",
       "      <th>3</th>\n",
       "      <td>220</td>\n",
       "      <td>4.0</td>\n",
       "      <td>NaN</td>\n",
       "      <td>2542.392402</td>\n",
       "      <td>20.2</td>\n",
       "      <td>2009</td>\n",
       "      <td>USA</td>\n",
       "      <td>Diesel</td>\n",
       "      <td>All-wheel drive</td>\n",
       "      <td>2.0</td>\n",
       "      <td>16.912736</td>\n",
       "    </tr>\n",
       "    <tr>\n",
       "      <th>4</th>\n",
       "      <td>210</td>\n",
       "      <td>1.0</td>\n",
       "      <td>140.0</td>\n",
       "      <td>3460.870990</td>\n",
       "      <td>14.4</td>\n",
       "      <td>2009</td>\n",
       "      <td>Europe</td>\n",
       "      <td>Gasoline</td>\n",
       "      <td>All-wheel drive</td>\n",
       "      <td>2.0</td>\n",
       "      <td>12.488369</td>\n",
       "    </tr>\n",
       "  </tbody>\n",
       "</table>\n",
       "</div>"
      ],
      "text/plain": [
       "   engine_displacement  num_cylinders  horsepower  vehicle_weight  \\\n",
       "0                  170            3.0       159.0     3413.433759   \n",
       "1                  130            5.0        97.0     3149.664934   \n",
       "2                  170            NaN        78.0     3079.038997   \n",
       "3                  220            4.0         NaN     2542.392402   \n",
       "4                  210            1.0       140.0     3460.870990   \n",
       "\n",
       "   acceleration  model_year  origin fuel_type         drivetrain  num_doors  \\\n",
       "0          17.7        2003  Europe  Gasoline    All-wheel drive        0.0   \n",
       "1          17.8        2007     USA  Gasoline  Front-wheel drive        0.0   \n",
       "2          15.1        2018  Europe  Gasoline  Front-wheel drive        0.0   \n",
       "3          20.2        2009     USA    Diesel    All-wheel drive        2.0   \n",
       "4          14.4        2009  Europe  Gasoline    All-wheel drive        2.0   \n",
       "\n",
       "   fuel_efficiency_mpg  \n",
       "0            13.231729  \n",
       "1            13.688217  \n",
       "2            14.246341  \n",
       "3            16.912736  \n",
       "4            12.488369  "
      ]
     },
     "execution_count": 7,
     "metadata": {},
     "output_type": "execute_result"
    }
   ],
   "source": [
    "data.head()"
   ]
  },
  {
   "cell_type": "code",
   "execution_count": 9,
   "id": "17d96102-9cfe-482d-b194-4173ff7dccc1",
   "metadata": {},
   "outputs": [
    {
     "name": "stdout",
     "output_type": "stream",
     "text": [
      "<class 'pandas.core.frame.DataFrame'>\n",
      "RangeIndex: 9704 entries, 0 to 9703\n",
      "Data columns (total 11 columns):\n",
      " #   Column               Non-Null Count  Dtype  \n",
      "---  ------               --------------  -----  \n",
      " 0   engine_displacement  9704 non-null   int64  \n",
      " 1   num_cylinders        9222 non-null   float64\n",
      " 2   horsepower           8996 non-null   float64\n",
      " 3   vehicle_weight       9704 non-null   float64\n",
      " 4   acceleration         8774 non-null   float64\n",
      " 5   model_year           9704 non-null   int64  \n",
      " 6   origin               9704 non-null   object \n",
      " 7   fuel_type            9704 non-null   object \n",
      " 8   drivetrain           9704 non-null   object \n",
      " 9   num_doors            9202 non-null   float64\n",
      " 10  fuel_efficiency_mpg  9704 non-null   float64\n",
      "dtypes: float64(6), int64(2), object(3)\n",
      "memory usage: 834.1+ KB\n"
     ]
    }
   ],
   "source": [
    "data.info()"
   ]
  },
  {
   "cell_type": "code",
   "execution_count": 15,
   "id": "c97c4c87-5247-437f-b106-9f706c92a506",
   "metadata": {},
   "outputs": [
    {
     "data": {
      "text/plain": [
       "['engine_displacement',\n",
       " 'horsepower',\n",
       " 'vehicle_weight',\n",
       " 'model_year',\n",
       " 'fuel_efficiency_mpg']"
      ]
     },
     "execution_count": 15,
     "metadata": {},
     "output_type": "execute_result"
    }
   ],
   "source": [
    "base = ['engine_displacement','horsepower','vehicle_weight','model_year','fuel_efficiency_mpg']\n",
    "base"
   ]
  },
  {
   "cell_type": "code",
   "execution_count": 17,
   "id": "5e192aa7-16a8-49f6-94ee-9e8cbe1ad36d",
   "metadata": {},
   "outputs": [],
   "source": [
    "import seaborn as sns\n",
    "import matplotlib.pyplot as plt"
   ]
  },
  {
   "cell_type": "code",
   "execution_count": 21,
   "id": "1210b2e1-1fde-4708-a158-156f55803625",
   "metadata": {},
   "outputs": [
    {
     "data": {
      "image/png": "[encoded data removed]",
      "text/plain": [
       "<Figure size 640x480 with 1 Axes>"
      ]
     },
     "metadata": {},
     "output_type": "display_data"
    }
   ],
   "source": [
    "sns.histplot(data.fuel_efficiency_mpg)\n",
    "plt.show()"
   ]
  },
  {
   "cell_type": "code",
   "execution_count": 23,
   "id": "9c77706d-59bb-4b1e-87a2-bbcc5cf36a17",
   "metadata": {},
   "outputs": [
    {
     "data": {
      "text/plain": [
       "count    8996.000000\n",
       "mean      149.657292\n",
       "std        29.879555\n",
       "min        37.000000\n",
       "25%       130.000000\n",
       "50%       149.000000\n",
       "75%       170.000000\n",
       "max       271.000000\n",
       "Name: horsepower, dtype: float64"
      ]
     },
     "execution_count": 23,
     "metadata": {},
     "output_type": "execute_result"
    }
   ],
   "source": [
    "data['horsepower'].describe()"
   ]
  },
  {
   "cell_type": "code",
   "execution_count": 34,
   "id": "57987af7-c07d-4c15-b036-a7a3e9b3633e",
   "metadata": {},
   "outputs": [
    {
     "name": "stdout",
     "output_type": "stream",
     "text": [
      "engine_displacement\n",
      "[220 160 230 150 300]\n",
      "36\n",
      "\n",
      "num_cylinders\n",
      "[3. 2. 4. 8. 1.]\n",
      "14\n",
      "\n",
      "horsepower\n",
      "[144. 141. 155. 206. 111.]\n",
      "192\n",
      "\n",
      "vehicle_weight\n",
      "[2535.88759124 2741.17048439 2471.88023726 3748.16446858 2135.71635893]\n",
      "9704\n",
      "\n",
      "acceleration\n",
      "[18.7 14.3  nan 15.5 16.9]\n",
      "162\n",
      "\n",
      "model_year\n",
      "[2009 2019 2017 2015 2006]\n",
      "24\n",
      "\n",
      "origin\n",
      "['USA' 'Asia' 'Europe']\n",
      "3\n",
      "\n",
      "fuel_type\n",
      "['Gasoline' 'Diesel']\n",
      "2\n",
      "\n",
      "drivetrain\n",
      "['All-wheel drive' 'Front-wheel drive']\n",
      "2\n",
      "\n",
      "num_doors\n",
      "[ 2.  1. nan  0. -1.]\n",
      "9\n",
      "\n",
      "fuel_efficiency_mpg\n",
      "[16.64294342 16.29837715 18.59182197 11.81884314 19.40220906]\n",
      "9704\n",
      "\n"
     ]
    }
   ],
   "source": [
    "for col in data.columns:\n",
    "    print(col)\n",
    "    print(data[col].unique()[:5])\n",
    "    print(data[col].nunique())\n",
    "    print() "
   ]
  },
  {
   "cell_type": "markdown",
   "id": "4240133d-31d6-4e20-8439-28b27562da35",
   "metadata": {},
   "source": [
    "### Prepare and split the dataset"
   ]
  },
  {
   "cell_type": "code",
   "execution_count": 28,
   "id": "c2e64bca-94c5-4686-9800-92e33e907dd4",
   "metadata": {},
   "outputs": [],
   "source": [
    "# Shuffle the dataframe before splitting\n",
    "data = data.sample(frac=1, random_state=42).reset_index(drop=True)"
   ]
  },
  {
   "cell_type": "code",
   "execution_count": 36,
   "id": "c06fa173-54f5-4582-99d8-1355592a0ef4",
   "metadata": {},
   "outputs": [],
   "source": [
    "n = len(data)\n",
    "n_val = int(n*0.2)\n",
    "n_test = int(n*0.2)\n",
    "n_train = n-(n_val + n_test)"
   ]
  },
  {
   "cell_type": "code",
   "execution_count": 40,
   "id": "91010303-7187-41bb-b420-76df1d37358a",
   "metadata": {},
   "outputs": [
    {
     "data": {
      "text/plain": [
       "(9704, 1940, 1940, 5824)"
      ]
     },
     "execution_count": 40,
     "metadata": {},
     "output_type": "execute_result"
    }
   ],
   "source": [
    "n, n_val, n_test, n_train"
   ]
  },
  {
   "cell_type": "code",
   "execution_count": 42,
   "id": "0a26db32-2b23-4523-aabd-c763fb770e03",
   "metadata": {},
   "outputs": [],
   "source": [
    "df_val = data.iloc[:n_val]\n",
    "df_test = data.iloc[n_val:n_val + n_train]\n",
    "df_train = data.iloc[n_val + n_train:]"
   ]
  },
  {
   "cell_type": "code",
   "execution_count": 44,
   "id": "b349e434-46f0-40dd-aaf1-37c7ba52a94a",
   "metadata": {},
   "outputs": [
    {
     "data": {
      "text/html": [
       "<div>\n",
       "<style scoped>\n",
       "    .dataframe tbody tr th:only-of-type {\n",
       "        vertical-align: middle;\n",
       "    }\n",
       "\n",
       "    .dataframe tbody tr th {\n",
       "        vertical-align: top;\n",
       "    }\n",
       "\n",
       "    .dataframe thead th {\n",
       "        text-align: right;\n",
       "    }\n",
       "</style>\n",
       "<table border=\"1\" class=\"dataframe\">\n",
       "  <thead>\n",
       "    <tr style=\"text-align: right;\">\n",
       "      <th></th>\n",
       "      <th>engine_displacement</th>\n",
       "      <th>num_cylinders</th>\n",
       "      <th>horsepower</th>\n",
       "      <th>vehicle_weight</th>\n",
       "      <th>acceleration</th>\n",
       "      <th>model_year</th>\n",
       "      <th>origin</th>\n",
       "      <th>fuel_type</th>\n",
       "      <th>drivetrain</th>\n",
       "      <th>num_doors</th>\n",
       "      <th>fuel_efficiency_mpg</th>\n",
       "    </tr>\n",
       "  </thead>\n",
       "  <tbody>\n",
       "    <tr>\n",
       "      <th>7764</th>\n",
       "      <td>140</td>\n",
       "      <td>11.0</td>\n",
       "      <td>148.0</td>\n",
       "      <td>2704.826005</td>\n",
       "      <td>18.9</td>\n",
       "      <td>2017</td>\n",
       "      <td>USA</td>\n",
       "      <td>Diesel</td>\n",
       "      <td>All-wheel drive</td>\n",
       "      <td>0.0</td>\n",
       "      <td>15.804354</td>\n",
       "    </tr>\n",
       "    <tr>\n",
       "      <th>7765</th>\n",
       "      <td>210</td>\n",
       "      <td>4.0</td>\n",
       "      <td>136.0</td>\n",
       "      <td>3001.227490</td>\n",
       "      <td>14.9</td>\n",
       "      <td>2004</td>\n",
       "      <td>Europe</td>\n",
       "      <td>Diesel</td>\n",
       "      <td>Front-wheel drive</td>\n",
       "      <td>NaN</td>\n",
       "      <td>14.272374</td>\n",
       "    </tr>\n",
       "    <tr>\n",
       "      <th>7766</th>\n",
       "      <td>210</td>\n",
       "      <td>NaN</td>\n",
       "      <td>152.0</td>\n",
       "      <td>3747.467392</td>\n",
       "      <td>13.7</td>\n",
       "      <td>2021</td>\n",
       "      <td>USA</td>\n",
       "      <td>Gasoline</td>\n",
       "      <td>Front-wheel drive</td>\n",
       "      <td>1.0</td>\n",
       "      <td>11.748441</td>\n",
       "    </tr>\n",
       "    <tr>\n",
       "      <th>7767</th>\n",
       "      <td>190</td>\n",
       "      <td>2.0</td>\n",
       "      <td>128.0</td>\n",
       "      <td>2705.833636</td>\n",
       "      <td>16.7</td>\n",
       "      <td>2014</td>\n",
       "      <td>Asia</td>\n",
       "      <td>Diesel</td>\n",
       "      <td>Front-wheel drive</td>\n",
       "      <td>0.0</td>\n",
       "      <td>16.485991</td>\n",
       "    </tr>\n",
       "    <tr>\n",
       "      <th>7768</th>\n",
       "      <td>230</td>\n",
       "      <td>1.0</td>\n",
       "      <td>156.0</td>\n",
       "      <td>2505.939657</td>\n",
       "      <td>17.5</td>\n",
       "      <td>2005</td>\n",
       "      <td>Asia</td>\n",
       "      <td>Diesel</td>\n",
       "      <td>All-wheel drive</td>\n",
       "      <td>1.0</td>\n",
       "      <td>17.779704</td>\n",
       "    </tr>\n",
       "    <tr>\n",
       "      <th>...</th>\n",
       "      <td>...</td>\n",
       "      <td>...</td>\n",
       "      <td>...</td>\n",
       "      <td>...</td>\n",
       "      <td>...</td>\n",
       "      <td>...</td>\n",
       "      <td>...</td>\n",
       "      <td>...</td>\n",
       "      <td>...</td>\n",
       "      <td>...</td>\n",
       "      <td>...</td>\n",
       "    </tr>\n",
       "    <tr>\n",
       "      <th>9699</th>\n",
       "      <td>210</td>\n",
       "      <td>2.0</td>\n",
       "      <td>163.0</td>\n",
       "      <td>1972.029124</td>\n",
       "      <td>14.4</td>\n",
       "      <td>2011</td>\n",
       "      <td>Europe</td>\n",
       "      <td>Diesel</td>\n",
       "      <td>All-wheel drive</td>\n",
       "      <td>1.0</td>\n",
       "      <td>19.961672</td>\n",
       "    </tr>\n",
       "    <tr>\n",
       "      <th>9700</th>\n",
       "      <td>160</td>\n",
       "      <td>4.0</td>\n",
       "      <td>126.0</td>\n",
       "      <td>3011.588014</td>\n",
       "      <td>16.4</td>\n",
       "      <td>2009</td>\n",
       "      <td>Europe</td>\n",
       "      <td>Diesel</td>\n",
       "      <td>All-wheel drive</td>\n",
       "      <td>-1.0</td>\n",
       "      <td>14.651056</td>\n",
       "    </tr>\n",
       "    <tr>\n",
       "      <th>9701</th>\n",
       "      <td>290</td>\n",
       "      <td>7.0</td>\n",
       "      <td>187.0</td>\n",
       "      <td>2440.508039</td>\n",
       "      <td>NaN</td>\n",
       "      <td>2019</td>\n",
       "      <td>USA</td>\n",
       "      <td>Gasoline</td>\n",
       "      <td>All-wheel drive</td>\n",
       "      <td>-1.0</td>\n",
       "      <td>18.404435</td>\n",
       "    </tr>\n",
       "    <tr>\n",
       "      <th>9702</th>\n",
       "      <td>260</td>\n",
       "      <td>2.0</td>\n",
       "      <td>129.0</td>\n",
       "      <td>1865.404480</td>\n",
       "      <td>14.5</td>\n",
       "      <td>2019</td>\n",
       "      <td>Europe</td>\n",
       "      <td>Gasoline</td>\n",
       "      <td>Front-wheel drive</td>\n",
       "      <td>0.0</td>\n",
       "      <td>20.502460</td>\n",
       "    </tr>\n",
       "    <tr>\n",
       "      <th>9703</th>\n",
       "      <td>270</td>\n",
       "      <td>1.0</td>\n",
       "      <td>147.0</td>\n",
       "      <td>2611.939500</td>\n",
       "      <td>11.7</td>\n",
       "      <td>2017</td>\n",
       "      <td>Asia</td>\n",
       "      <td>Diesel</td>\n",
       "      <td>Front-wheel drive</td>\n",
       "      <td>0.0</td>\n",
       "      <td>16.816241</td>\n",
       "    </tr>\n",
       "  </tbody>\n",
       "</table>\n",
       "<p>1940 rows × 11 columns</p>\n",
       "</div>"
      ],
      "text/plain": [
       "      engine_displacement  num_cylinders  horsepower  vehicle_weight  \\\n",
       "7764                  140           11.0       148.0     2704.826005   \n",
       "7765                  210            4.0       136.0     3001.227490   \n",
       "7766                  210            NaN       152.0     3747.467392   \n",
       "7767                  190            2.0       128.0     2705.833636   \n",
       "7768                  230            1.0       156.0     2505.939657   \n",
       "...                   ...            ...         ...             ...   \n",
       "9699                  210            2.0       163.0     1972.029124   \n",
       "9700                  160            4.0       126.0     3011.588014   \n",
       "9701                  290            7.0       187.0     2440.508039   \n",
       "9702                  260            2.0       129.0     1865.404480   \n",
       "9703                  270            1.0       147.0     2611.939500   \n",
       "\n",
       "      acceleration  model_year  origin fuel_type         drivetrain  \\\n",
       "7764          18.9        2017     USA    Diesel    All-wheel drive   \n",
       "7765          14.9        2004  Europe    Diesel  Front-wheel drive   \n",
       "7766          13.7        2021     USA  Gasoline  Front-wheel drive   \n",
       "7767          16.7        2014    Asia    Diesel  Front-wheel drive   \n",
       "7768          17.5        2005    Asia    Diesel    All-wheel drive   \n",
       "...            ...         ...     ...       ...                ...   \n",
       "9699          14.4        2011  Europe    Diesel    All-wheel drive   \n",
       "9700          16.4        2009  Europe    Diesel    All-wheel drive   \n",
       "9701           NaN        2019     USA  Gasoline    All-wheel drive   \n",
       "9702          14.5        2019  Europe  Gasoline  Front-wheel drive   \n",
       "9703          11.7        2017    Asia    Diesel  Front-wheel drive   \n",
       "\n",
       "      num_doors  fuel_efficiency_mpg  \n",
       "7764        0.0            15.804354  \n",
       "7765        NaN            14.272374  \n",
       "7766        1.0            11.748441  \n",
       "7767        0.0            16.485991  \n",
       "7768        1.0            17.779704  \n",
       "...         ...                  ...  \n",
       "9699        1.0            19.961672  \n",
       "9700       -1.0            14.651056  \n",
       "9701       -1.0            18.404435  \n",
       "9702        0.0            20.502460  \n",
       "9703        0.0            16.816241  \n",
       "\n",
       "[1940 rows x 11 columns]"
      ]
     },
     "execution_count": 44,
     "metadata": {},
     "output_type": "execute_result"
    }
   ],
   "source": [
    "df_train"
   ]
  },
  {
   "cell_type": "code",
   "execution_count": 48,
   "id": "29279f1d-84c7-4cb8-b750-6db7d1b98952",
   "metadata": {},
   "outputs": [],
   "source": [
    "y_train = (df_train.fuel_efficiency_mpg.values)\n",
    "y_test = (df_test.fuel_efficiency_mpg.values)\n",
    "y_val = (df_val.fuel_efficiency_mpg.values)"
   ]
  },
  {
   "cell_type": "code",
   "execution_count": 52,
   "id": "1f6a8471-815c-4f2e-8a78-81b52913dbb8",
   "metadata": {},
   "outputs": [],
   "source": [
    "# remove fuel_efficiency_mpg from all frameworks\n",
    "del df_train['fuel_efficiency_mpg']\n",
    "del df_val['fuel_efficiency_mpg']\n",
    "del df_test['fuel_efficiency_mpg']"
   ]
  },
  {
   "cell_type": "code",
   "execution_count": 68,
   "id": "6f77cada-d298-4700-a56b-44b6c87493b7",
   "metadata": {},
   "outputs": [],
   "source": [
    "base = ['engine_displacement','horsepower','vehicle_weight','model_year']\n"
   ]
  },
  {
   "cell_type": "code",
   "execution_count": 64,
   "id": "c8fac692-5fc8-4b1c-a5a5-ec1613bd266e",
   "metadata": {},
   "outputs": [
    {
     "data": {
      "text/plain": [
       "engine_displacement      0\n",
       "num_cylinders           78\n",
       "horsepower             143\n",
       "vehicle_weight           0\n",
       "acceleration           184\n",
       "model_year               0\n",
       "origin                   0\n",
       "fuel_type                0\n",
       "drivetrain               0\n",
       "num_doors              107\n",
       "dtype: int64"
      ]
     },
     "execution_count": 64,
     "metadata": {},
     "output_type": "execute_result"
    }
   ],
   "source": [
    "df_train.isnull().sum()"
   ]
  },
  {
   "cell_type": "code",
   "execution_count": 72,
   "id": "b5b7b536-03ed-426f-bb4d-1c6916829f1b",
   "metadata": {},
   "outputs": [],
   "source": [
    "X_train_zero = df_train[base].fillna(0).values\n",
    "X_train_mean = df_train[base].fillna(df_train[base].mean()).values"
   ]
  },
  {
   "cell_type": "code",
   "execution_count": 76,
   "id": "e64a53ea-00d5-4d5f-b299-569fb001e282",
   "metadata": {},
   "outputs": [],
   "source": [
    "def train_linear_regression(X, y):\n",
    "    ones = np.ones(X.shape[0])\n",
    "    X = np.column_stack([ones, X])\n",
    "\n",
    "    XTX = X.T.dot(X)\n",
    "    XTX_inv = np.linalg.inv(XTX)\n",
    "    w_full = XTX_inv.dot(X.T).dot(y)\n",
    "\n",
    "    return w_full[0], w_full[1:]"
   ]
  },
  {
   "cell_type": "code",
   "execution_count": 86,
   "id": "a7fe844d-26ff-4992-bcb7-ea20a287878e",
   "metadata": {},
   "outputs": [],
   "source": [
    "w0, w = train_linear_regression(X_train_zero, y_train)"
   ]
  },
  {
   "cell_type": "code",
   "execution_count": 88,
   "id": "ca6a97fa-bec8-43b6-b84c-065bfa69be9b",
   "metadata": {},
   "outputs": [],
   "source": [
    "y_pred = w0 + X_train_zero.dot(w)"
   ]
  },
  {
   "cell_type": "code",
   "execution_count": 156,
   "id": "c8d4c44f-0395-4150-be95-fd0f331c6484",
   "metadata": {},
   "outputs": [],
   "source": [
    "def rmse (y, y_pred):\n",
    "    error = y - y_pred\n",
    "    sq_error = error **2\n",
    "    mse = sq_error.mean()\n",
    "    rmse = np.sqrt(mse)\n",
    "    return rmse"
   ]
  },
  {
   "cell_type": "code",
   "execution_count": 92,
   "id": "a11823f6-83dd-47a1-a556-544034257c9b",
   "metadata": {},
   "outputs": [
    {
     "data": {
      "text/plain": [
       "0.5161662925449045"
      ]
     },
     "execution_count": 92,
     "metadata": {},
     "output_type": "execute_result"
    }
   ],
   "source": [
    "rmse(y_train, y_pred)"
   ]
  },
  {
   "cell_type": "code",
   "execution_count": 100,
   "id": "8731194c-ba51-46ec-8830-46a0e597fc63",
   "metadata": {},
   "outputs": [],
   "source": [
    "X_val = df_val[base].fillna(0).values"
   ]
  },
  {
   "cell_type": "code",
   "execution_count": 102,
   "id": "010e8cfd-5747-44a5-afaf-c1461e4fdde7",
   "metadata": {},
   "outputs": [
    {
     "data": {
      "text/plain": [
       "0.5301443925665053"
      ]
     },
     "execution_count": 102,
     "metadata": {},
     "output_type": "execute_result"
    }
   ],
   "source": [
    "y_pred = w0 + X_val.dot(w)\n",
    "rmse(y_val, y_pred)"
   ]
  },
  {
   "cell_type": "code",
   "execution_count": null,
   "id": "3d244ba8-5148-4465-bb75-d59cfc0a2a44",
   "metadata": {},
   "outputs": [],
   "source": []
  },
  {
   "cell_type": "code",
   "execution_count": 104,
   "id": "b2670054-f14c-4db7-be60-897633699d8f",
   "metadata": {},
   "outputs": [],
   "source": [
    "w0, w = train_linear_regression(X_train_mean, y_train)"
   ]
  },
  {
   "cell_type": "code",
   "execution_count": 106,
   "id": "70a67a3c-7b34-4b8c-8685-f4f414fa8bb6",
   "metadata": {},
   "outputs": [],
   "source": [
    "y_pred = w0 + X_train_mean.dot(w)"
   ]
  },
  {
   "cell_type": "code",
   "execution_count": 108,
   "id": "69083416-d2f0-47d5-b649-a715e396c1de",
   "metadata": {},
   "outputs": [
    {
     "data": {
      "text/plain": [
       "0.46215543337485954"
      ]
     },
     "execution_count": 108,
     "metadata": {},
     "output_type": "execute_result"
    }
   ],
   "source": [
    "rmse(y_train, y_pred)"
   ]
  },
  {
   "cell_type": "code",
   "execution_count": 110,
   "id": "c905d551-5063-4baa-ac8b-de99bda80762",
   "metadata": {},
   "outputs": [
    {
     "data": {
      "text/plain": [
       "0.634838680708869"
      ]
     },
     "execution_count": 110,
     "metadata": {},
     "output_type": "execute_result"
    }
   ],
   "source": [
    "y_pred = w0 + X_val.dot(w)\n",
    "rmse(y_val, y_pred)"
   ]
  },
  {
   "cell_type": "markdown",
   "id": "bc19feae-289d-4837-b8f5-d8f04bd6967e",
   "metadata": {},
   "source": [
    "### Regularization"
   ]
  },
  {
   "cell_type": "code",
   "execution_count": 113,
   "id": "68a9d32b-ba21-4d77-a198-897c68b17dbb",
   "metadata": {},
   "outputs": [],
   "source": [
    "def train_linear_regression_reg(X, y, r=0.001):\n",
    "    ones = np.ones(X.shape[0])\n",
    "    X = np.column_stack([ones, X])\n",
    "\n",
    "    XTX = X.T.dot(X)\n",
    "    XTX = XTX + r * np.eye(XTX.shape[0])\n",
    "    \n",
    "    XTX_inv = np.linalg.inv(XTX)\n",
    "    w_full = XTX_inv.dot(X.T).dot(y)\n",
    "\n",
    "    return w_full[0], w_full[1:]"
   ]
  },
  {
   "cell_type": "code",
   "execution_count": 121,
   "id": "baaeafab-4add-4fe1-88fb-4dfb932563cf",
   "metadata": {},
   "outputs": [
    {
     "name": "stdout",
     "output_type": "stream",
     "text": [
      "0 28.13649596950652 0.53\n",
      "0.01 19.012866327378923 0.53\n",
      "0.1 4.852244857151957 0.54\n",
      "1 0.574378118253765 0.54\n",
      "5 0.11678861888921462 0.54\n",
      "10 0.058519388111018776 0.54\n",
      "100 0.005869481677793543 0.54\n"
     ]
    }
   ],
   "source": [
    "# Finding the best regularization parameter\n",
    "for r in [0, 0.01, 0.1, 1, 5, 10, 100]:\n",
    "    w0,w = train_linear_regression_reg(X_train_zero, y_train, r=r)\n",
    "    \n",
    "    y_pred = w0 + X_val.dot(w)\n",
    "    score = rmse(y_val, y_pred)\n",
    "\n",
    "    print(r, w0, round(score, 2))"
   ]
  },
  {
   "cell_type": "markdown",
   "id": "46dcdfa2-cf4f-4bfa-ab4c-feceb9d29421",
   "metadata": {},
   "source": [
    "#### Question 5"
   ]
  },
  {
   "cell_type": "code",
   "execution_count": 126,
   "id": "2ba64972-b0c9-4e4b-a066-0c3c1a781972",
   "metadata": {},
   "outputs": [],
   "source": [
    "# Shuffle the dataframe before splitting\n",
    "data_0 = data.sample(frac=1, random_state=0).reset_index(drop=True)\n",
    "data_1 = data.sample(frac=1, random_state=1).reset_index(drop=True)\n",
    "data_2 = data.sample(frac=1, random_state=2).reset_index(drop=True)\n",
    "data_3 = data.sample(frac=1, random_state=3).reset_index(drop=True)\n",
    "data_4 = data.sample(frac=1, random_state=4).reset_index(drop=True)\n",
    "data_5 = data.sample(frac=1, random_state=5).reset_index(drop=True)\n",
    "data_6 = data.sample(frac=1, random_state=6).reset_index(drop=True)\n",
    "data_7 = data.sample(frac=1, random_state=7).reset_index(drop=True)\n",
    "data_8 = data.sample(frac=1, random_state=8).reset_index(drop=True)\n",
    "data_9 = data.sample(frac=1, random_state=9).reset_index(drop=True)"
   ]
  },
  {
   "cell_type": "code",
   "execution_count": 128,
   "id": "90aa6e47-35a7-4e36-8685-7e5984c237a9",
   "metadata": {},
   "outputs": [
    {
     "name": "stdout",
     "output_type": "stream",
     "text": [
      "RMSE scores: [0.5283924539968174, 0.5223281653786673, 0.5158155638205185, 0.5119014371621264, 0.519977170197945, 0.5256290281660896, 0.5071351997296469, 0.5221709540040361, 0.5156419234700715, 0.5074547645997303]\n",
      "Standard deviation: 0.007\n"
     ]
    }
   ],
   "source": [
    "import numpy as np\n",
    "from sklearn.model_selection import train_test_split\n",
    "from sklearn.metrics import mean_squared_error\n",
    "\n",
    "# Define features and target\n",
    "base = ['engine_displacement', 'horsepower', 'vehicle_weight', 'model_year']\n",
    "target = 'fuel_efficiency_mpg'\n",
    "\n",
    "def train_linear_regression(X, y):\n",
    "    ones = np.ones(X.shape[0])\n",
    "    X = np.column_stack([ones, X])\n",
    "\n",
    "    XTX = X.T.dot(X)\n",
    "    XTX_inv = np.linalg.inv(XTX)\n",
    "    w_full = XTX_inv.dot(X.T).dot(y)\n",
    "\n",
    "    return w_full[0], w_full[1:]\n",
    "\n",
    "\n",
    "seeds = [0, 1, 2, 3, 4, 5, 6, 7, 8, 9]\n",
    "scores = []\n",
    "\n",
    "for seed in seeds:\n",
    "    # Split data 60% / 20% / 20%\n",
    "    df_full_train, df_test = train_test_split(data, test_size=0.2, random_state=seed)\n",
    "    df_train, df_val = train_test_split(df_full_train, test_size=0.25, random_state=seed)  # 0.25 * 0.8 = 0.2\n",
    "\n",
    "    # Prepare training and validation sets\n",
    "    X_train = df_train[base].fillna(0).to_numpy()\n",
    "    y_train = df_train[target].to_numpy()\n",
    "\n",
    "    X_val = df_val[base].fillna(0).to_numpy()\n",
    "    y_val = df_val[target].to_numpy()\n",
    "\n",
    "    # Train model (no regularization)\n",
    "    w0, w = train_linear_regression(X_train, y_train)\n",
    "\n",
    "    # Predict on validation data\n",
    "    y_pred = w0 + X_val.dot(w)\n",
    "\n",
    "    # Compute RMSE\n",
    "    rmse = np.sqrt(mean_squared_error(y_val, y_pred))\n",
    "    scores.append(rmse)\n",
    "\n",
    "# Compute the standard deviation of all RMSE scores\n",
    "std = np.std(scores)\n",
    "\n",
    "print(\"RMSE scores:\", scores)\n",
    "print(\"Standard deviation:\", round(std, 3))\n"
   ]
  },
  {
   "cell_type": "code",
   "execution_count": 130,
   "id": "7d555fa8-1184-4e10-b61f-e229ed796b00",
   "metadata": {},
   "outputs": [],
   "source": [
    "# Define the random seed and split ratios\n",
    "seed = 9\n",
    "\n",
    "# Step 1: Split into full_train (80%) and test (20%)\n",
    "df_full_train, df_test = train_test_split(data, test_size=0.2, random_state=seed)\n",
    "\n",
    "# Step 2: Split full_train into train (60%) and validation (20%)\n",
    "# 0.25 × 0.8 = 0.2 → means 25% of full_train will become validation\n",
    "df_train, df_val = train_test_split(df_full_train, test_size=0.25, random_state=seed)\n",
    "\n",
    "# Step 3: Combine train and validation into one dataset\n",
    "df_train_full = pd.concat([df_train, df_val]).reset_index(drop=True)"
   ]
  },
  {
   "cell_type": "code",
   "execution_count": 134,
   "id": "58e45515-88e0-4053-80a2-8517eef58c76",
   "metadata": {},
   "outputs": [],
   "source": [
    "X_train_full = df_train_full[base].fillna(0).values\n",
    "y_train_full = df_train_full[target].values"
   ]
  },
  {
   "cell_type": "code",
   "execution_count": 136,
   "id": "451445f7-1994-479e-a05b-0dc2247023ec",
   "metadata": {},
   "outputs": [],
   "source": [
    "def train_linear_regression_reg(X, y, r=0.001):\n",
    "    ones = np.ones(X.shape[0])\n",
    "    X = np.column_stack([ones, X])\n",
    "\n",
    "    XTX = X.T.dot(X)\n",
    "    XTX = XTX + r * np.eye(XTX.shape[0])\n",
    "    \n",
    "    XTX_inv = np.linalg.inv(XTX)\n",
    "    w_full = XTX_inv.dot(X.T).dot(y)\n",
    "\n",
    "    return w_full[0], w_full[1:]"
   ]
  },
  {
   "cell_type": "code",
   "execution_count": 140,
   "id": "fa9b853c-edd7-4bcd-b049-e3ddc7aca9fc",
   "metadata": {},
   "outputs": [],
   "source": [
    "X_test = df_test[base].fillna(0).values\n",
    "y_test = df_test[target].values"
   ]
  },
  {
   "cell_type": "code",
   "execution_count": 142,
   "id": "d30e9bb0-099c-4215-9fb9-6d95b5b7cbd8",
   "metadata": {},
   "outputs": [],
   "source": [
    "w0, w = train_linear_regression_reg(X_train_full, y_train_full, r= 0.001)"
   ]
  },
  {
   "cell_type": "code",
   "execution_count": 154,
   "id": "53639ca1-38a6-4027-a609-8c16cd759abb",
   "metadata": {},
   "outputs": [
    {
     "data": {
      "text/plain": [
       "(1941,)"
      ]
     },
     "execution_count": 154,
     "metadata": {},
     "output_type": "execute_result"
    }
   ],
   "source": [
    "y_pred.shape"
   ]
  },
  {
   "cell_type": "code",
   "execution_count": 160,
   "id": "c4de41b3-a2cf-4a81-8276-ad46ed5382bb",
   "metadata": {},
   "outputs": [
    {
     "data": {
      "text/plain": [
       "0.5210537420319723"
      ]
     },
     "execution_count": 160,
     "metadata": {},
     "output_type": "execute_result"
    }
   ],
   "source": [
    "y_pred = w0 + X_test.dot(w)\n",
    "rmse(y_pred, y_test)\n"
   ]
  },
  {
   "cell_type": "code",
   "execution_count": null,
   "id": "bbfaf4ec-b0fb-4f8b-a2c1-05a25d088648",
   "metadata": {},
   "outputs": [],
   "source": []
  }
 ],
 "metadata": {
  "kernelspec": {
   "display_name": "Python [conda env:base] *",
   "language": "python",
   "name": "conda-base-py"
  },
  "language_info": {
   "codemirror_mode": {
    "name": "ipython",
    "version": 3
   },
   "file_extension": ".py",
   "mimetype": "text/x-python",
   "name": "python",
   "nbconvert_exporter": "python",
   "pygments_lexer": "ipython3",
   "version": "3.12.7"
  }
 },
 "nbformat": 4,
 "nbformat_minor": 5
}
