{
 "cells": [
  {
   "cell_type": "code",
   "execution_count": 1,
   "id": "4a25d0e7-3851-40cd-b2a1-ca8da196c229",
   "metadata": {},
   "outputs": [],
   "source": [
    "# Import Web3.py to interact  with Ethereum and EVMs\n",
    "from web3 import Web3\n",
    "from datetime import datetime"
   ]
  },
  {
   "cell_type": "code",
   "execution_count": 5,
   "id": "984ad132-0b91-4897-8650-e50b28e5826b",
   "metadata": {},
   "outputs": [
    {
     "name": "stdout",
     "output_type": "stream",
     "text": [
      "Is there an existing connection to the blockchain? :  True\n"
     ]
    }
   ],
   "source": [
    "# Connect with Ganache blockchain (Local simulation of the Ethereum network)\n",
    "ganache_url = \"http://127.0.0.1:7545\"\n",
    "web3 = Web3(Web3.HTTPProvider(ganache_url))\n",
    "print(\"Is there an existing connection to the blockchain? : \", web3.is_connected())"
   ]
  },
  {
   "cell_type": "code",
   "execution_count": 7,
   "id": "a51f8940-3826-4708-9f62-7f432ed182f8",
   "metadata": {},
   "outputs": [
    {
     "name": "stdout",
     "output_type": "stream",
     "text": [
      "What is the current block? Current block is:  1\n"
     ]
    }
   ],
   "source": [
    "# Check the current block number\n",
    "print(\"What is the current block? Current block is: \", web3.eth.block_number)"
   ]
  },
  {
   "cell_type": "code",
   "execution_count": 53,
   "id": "f82bcb67-1f4a-4608-8b4d-c249ed9f6d2c",
   "metadata": {},
   "outputs": [
    {
     "name": "stdout",
     "output_type": "stream",
     "text": [
      "How much money is in the sender's account? The balance is:  100\n",
      "How much money is in the receiver's account? The balance is:  100\n"
     ]
    }
   ],
   "source": [
    "# Check balance of ETH in sender and receiver's address\n",
    "from_account=\"0xF3fc925415A68ce043b05A17496f07795A673f6B\"\n",
    "to_account= \"0xf6E223d8588D1340541362ab840b292D1F19433b\"\n",
    "print (\"How much money is in the sender's account? The balance is: \", web3.from_wei(web3.eth.get_balance(from_account), 'ether'))\n",
    "print (\"How much money is in the receiver's account? The balance is: \", web3.from_wei (web3.eth.get_balance(to_account), 'ether'))"
   ]
  },
  {
   "cell_type": "code",
   "execution_count": 73,
   "id": "993394fb-61e3-4d5d-8c27-655f6d02043d",
   "metadata": {},
   "outputs": [],
   "source": [
    "transaction = web3.eth.send_transaction({\n",
    "    'from': from_account,\n",
    "    'to': to_account,\n",
    "    'value': web3.to_wei(30, 'ether')\n",
    "})\n"
   ]
  },
  {
   "cell_type": "code",
   "execution_count": 75,
   "id": "760881de-656c-4a6e-9d10-c7f1cb14cc50",
   "metadata": {},
   "outputs": [
    {
     "name": "stdout",
     "output_type": "stream",
     "text": [
      "How much money is in the sender's account? The new balance is:  69.999976744140625\n",
      "How much money is in the receiver's account? The new balance is:  130\n"
     ]
    }
   ],
   "source": [
    "print (\"How much money is in the sender's account? The new balance is: \", web3.from_wei(web3.eth.get_balance(from_account), 'ether'))\n",
    "print (\"How much money is in the receiver's account? The new balance is: \", web3.from_wei (web3.eth.get_balance(to_account), 'ether'))"
   ]
  },
  {
   "cell_type": "code",
   "execution_count": 79,
   "id": "37b67592-6d0e-4d59-8fe5-f984eb5d5ea8",
   "metadata": {},
   "outputs": [
    {
     "name": "stdout",
     "output_type": "stream",
     "text": [
      "Current block number is:  1\n"
     ]
    }
   ],
   "source": [
    "# Check the current block number\n",
    "print(\"Current block number is: \", web3.eth.block_number)"
   ]
  },
  {
   "cell_type": "code",
   "execution_count": 83,
   "id": "ab329ee0-503c-486a-b966-435ea9a18175",
   "metadata": {},
   "outputs": [
    {
     "data": {
      "text/plain": [
       "AttributeDict({'type': 2,\n",
       " 'hash': HexBytes('0x8815bef6fb6289b8d279588dd370907e98566785c9228f89d9359c6129c8223e'),\n",
       " 'chainId': 1337,\n",
       " 'nonce': 0,\n",
       " 'blockHash': HexBytes('0x45147b40cecbc1f9c8eac54916fb041c192ec242017922c44ed13b3f2774ba77'),\n",
       " 'blockNumber': 1,\n",
       " 'transactionIndex': 0,\n",
       " 'from': '0xF3fc925415A68ce043b05A17496f07795A673f6B',\n",
       " 'to': '0xf6E223d8588D1340541362ab840b292D1F19433b',\n",
       " 'value': 30000000000000000000,\n",
       " 'maxPriorityFeePerGas': 1000000000,\n",
       " 'maxFeePerGas': 1107421875,\n",
       " 'gasPrice': 1107421875,\n",
       " 'gas': 121000,\n",
       " 'input': HexBytes('0x'),\n",
       " 'accessList': [],\n",
       " 'v': 1,\n",
       " 'r': HexBytes('0xbe8f47b348ab6d8e6651cef2b971dcc1c06fb004a9d2fe44e66e730e99278acc'),\n",
       " 's': HexBytes('0x32772a76090334dad918272387e9715c9d24225cd9d6da0ef3f9b37c67895056')})"
      ]
     },
     "execution_count": 83,
     "metadata": {},
     "output_type": "execute_result"
    }
   ],
   "source": [
    "# Fetch details of transaction using the hash stored above\n",
    "web3.eth.get_transaction(transaction)"
   ]
  },
  {
   "cell_type": "code",
   "execution_count": 43,
   "id": "1a454053-1992-4ad6-bf7c-309d856b81f2",
   "metadata": {},
   "outputs": [
    {
     "name": "stdout",
     "output_type": "stream",
     "text": [
      "Is there an existing connection to the blockchain? :  True\n"
     ]
    }
   ],
   "source": [
    "infura_url= 'https://mainnet.infura.io/v3/76210dc3bdfa4e94be8273cb29291eaa'\n",
    "web3 = Web3(Web3.HTTPProvider(infura_url))\n",
    "print(\"Is there an existing connection to the blockchain? : \", web3.is_connected())"
   ]
  },
  {
   "cell_type": "code",
   "execution_count": 45,
   "id": "38b212e6-8e1f-4405-916a-9df35e0b0a3f",
   "metadata": {},
   "outputs": [],
   "source": [
    "# Check the block height on the ETH blockchain\n",
    "latest = web3.eth.block_number"
   ]
  },
  {
   "cell_type": "code",
   "execution_count": 49,
   "id": "3f5678cc-bae7-4277-9547-ed748e2a93d1",
   "metadata": {},
   "outputs": [
    {
     "name": "stdout",
     "output_type": "stream",
     "text": [
      "The latest block is:  23593031\n"
     ]
    }
   ],
   "source": [
    "print ('The latest block is: ', latest)"
   ]
  },
  {
   "cell_type": "code",
   "execution_count": 15,
   "id": "e2dddabe-bc9b-46d6-a4fd-ae78a62eed38",
   "metadata": {},
   "outputs": [
    {
     "data": {
      "text/plain": [
       "1760651459"
      ]
     },
     "execution_count": 15,
     "metadata": {},
     "output_type": "execute_result"
    }
   ],
   "source": [
    "# Retrieve the latest ETH block timestamp\n",
    "block_time = web3.eth.get_block(latest).timestamp\n",
    "block_time"
   ]
  },
  {
   "cell_type": "code",
   "execution_count": 17,
   "id": "2aeabf52-6787-4213-84d9-248fb8a3dced",
   "metadata": {},
   "outputs": [
    {
     "name": "stdout",
     "output_type": "stream",
     "text": [
      "2025-10-16 21:50:59\n"
     ]
    },
    {
     "name": "stderr",
     "output_type": "stream",
     "text": [
      "C:\\Users\\user\\AppData\\Local\\Temp\\ipykernel_9892\\2974074863.py:3: DeprecationWarning: datetime.datetime.utcfromtimestamp() is deprecated and scheduled for removal in a future version. Use timezone-aware objects to represent datetimes in UTC: datetime.datetime.fromtimestamp(timestamp, datetime.UTC).\n",
      "  print(datetime.utcfromtimestamp(block_timestamp).strftime('%Y-%m-%d %H:%M:%S'))\n"
     ]
    }
   ],
   "source": [
    "# Convert from UNIX to readable format\n",
    "block_timestamp = int(block_time)\n",
    "print(datetime.utcfromtimestamp(block_timestamp).strftime('%Y-%m-%d %H:%M:%S'))"
   ]
  },
  {
   "cell_type": "code",
   "execution_count": 19,
   "id": "7ff7c269-fd2f-45eb-ae3b-2a6656e24993",
   "metadata": {},
   "outputs": [
    {
     "name": "stdout",
     "output_type": "stream",
     "text": [
      "Average block time over last 100 blocks: 12.00 seconds\n"
     ]
    }
   ],
   "source": [
    "# Computing the average blocktime\n",
    "\n",
    "latest = web3.eth.block_number\n",
    "prev = latest - 100  # compare over the last 100 blocks\n",
    "\n",
    "latest_block = web3.eth.get_block(latest)\n",
    "prev_block = web3.eth.get_block(prev)\n",
    "\n",
    "avg_time = (latest_block.timestamp - prev_block.timestamp) / 100\n",
    "print(f\"Average block time over last 100 blocks: {avg_time:.2f} seconds\")"
   ]
  },
  {
   "cell_type": "code",
   "execution_count": 21,
   "id": "616507ca-027c-4791-8188-10927a503a27",
   "metadata": {},
   "outputs": [],
   "source": [
    "import requests"
   ]
  },
  {
   "cell_type": "code",
   "execution_count": 23,
   "id": "47900b19-5ef5-466b-8195-fdd8e75ddf94",
   "metadata": {},
   "outputs": [
    {
     "data": {
      "text/plain": [
       "True"
      ]
     },
     "execution_count": 23,
     "metadata": {},
     "output_type": "execute_result"
    }
   ],
   "source": [
    "web3.is_connected()"
   ]
  },
  {
   "cell_type": "code",
   "execution_count": 25,
   "id": "a03ad701-031e-4336-87c1-a8155c3ba13e",
   "metadata": {},
   "outputs": [],
   "source": [
    "sc_address = '0x2260FAC5E5542a773Aa44fBCfeDf7C193bc2C599'\n",
    "with open ('./w_btcabi.json') as f:\n",
    "    abi = json.load(f)"
   ]
  },
  {
   "cell_type": "code",
   "execution_count": 27,
   "id": "cd704f80-8fa1-461c-8ee7-e88230ea4027",
   "metadata": {},
   "outputs": [],
   "source": [
    "wbtc_contract = web3.eth.contract(address=sc_address, abi=abi)"
   ]
  },
  {
   "cell_type": "code",
   "execution_count": 29,
   "id": "088ef002-f719-48cb-b5d6-703caec24e5b",
   "metadata": {},
   "outputs": [
    {
     "data": {
      "text/plain": [
       "<web3._utils.datatypes.Contract at 0x1b229317e30>"
      ]
     },
     "execution_count": 29,
     "metadata": {},
     "output_type": "execute_result"
    }
   ],
   "source": [
    "wbtc_contract"
   ]
  },
  {
   "cell_type": "code",
   "execution_count": 31,
   "id": "8458da53-1ec0-49ef-a655-85c4a7117163",
   "metadata": {},
   "outputs": [
    {
     "data": {
      "text/plain": [
       "12699855811131"
      ]
     },
     "execution_count": 31,
     "metadata": {},
     "output_type": "execute_result"
    }
   ],
   "source": [
    "# Check the total supply of wbtc\n",
    "supply = wbtc_contract.functions.totalSupply.call()\n",
    "supply"
   ]
  },
  {
   "cell_type": "code",
   "execution_count": 33,
   "id": "4cd62404-6ec1-47a8-a141-ab993f79d6a5",
   "metadata": {},
   "outputs": [
    {
     "data": {
      "text/plain": [
       "8"
      ]
     },
     "execution_count": 33,
     "metadata": {},
     "output_type": "execute_result"
    }
   ],
   "source": [
    "# Retreiving the decimals\n",
    "decimals = wbtc_contract.functions.decimals.call()\n",
    "decimals"
   ]
  },
  {
   "cell_type": "code",
   "execution_count": 35,
   "id": "a2da0692-f364-4b87-a071-85b67748e996",
   "metadata": {},
   "outputs": [
    {
     "data": {
      "text/plain": [
       "108405"
      ]
     },
     "execution_count": 35,
     "metadata": {},
     "output_type": "execute_result"
    }
   ],
   "source": [
    "# Retreiving the price of the token\n",
    "\n",
    "url=\"https://api.coingecko.com/api/v3/simple/token_price/ethereum?contract_addresses=0x2260FAC5E5542a773Aa44fBCfeDf7C193bc2C599&vs_currencies=USD\"\n",
    "response = requests.get(url)\n",
    "data= response.json()\n",
    "price = data[\"0x2260fac5e5542a773aa44fbcfedf7c193bc2c599\"][\"usd\"]\n",
    "price"
   ]
  },
  {
   "cell_type": "code",
   "execution_count": 37,
   "id": "298e5228-df3a-4aea-bb46-286335032edf",
   "metadata": {},
   "outputs": [
    {
     "data": {
      "text/plain": [
       "13767278692.05656"
      ]
     },
     "execution_count": 37,
     "metadata": {},
     "output_type": "execute_result"
    }
   ],
   "source": [
    "# Calculate the Mcap-TVL\n",
    "tvl = (supply*10**-decimals)*price\n",
    "tvl"
   ]
  },
  {
   "cell_type": "code",
   "execution_count": 39,
   "id": "a6e85bb1-c447-4855-8b06-87e9d81f767a",
   "metadata": {},
   "outputs": [
    {
     "data": {
      "text/plain": [
       "13623547647.929804"
      ]
     },
     "execution_count": 39,
     "metadata": {},
     "output_type": "execute_result"
    }
   ],
   "source": [
    "url=\"https://api.llama.fi/tvl/wbtc\"\n",
    "response = requests.get(url)\n",
    "data= response.json()\n",
    "data"
   ]
  },
  {
   "cell_type": "code",
   "execution_count": 41,
   "id": "608bdc15-7412-4adb-beb4-fb01bf270035",
   "metadata": {},
   "outputs": [
    {
     "data": {
      "text/plain": [
       "[<Function allowance(address,address)>,\n",
       " <Function approve(address,uint256)>,\n",
       " <Function balanceOf(address)>,\n",
       " <Function burn(uint256)>,\n",
       " <Function claimOwnership()>,\n",
       " <Function decimals()>,\n",
       " <Function decreaseApproval(address,uint256)>,\n",
       " <Function finishMinting()>,\n",
       " <Function increaseApproval(address,uint256)>,\n",
       " <Function mint(address,uint256)>,\n",
       " <Function mintingFinished()>,\n",
       " <Function name()>,\n",
       " <Function owner()>,\n",
       " <Function pause()>,\n",
       " <Function paused()>,\n",
       " <Function pendingOwner()>,\n",
       " <Function reclaimToken(address)>,\n",
       " <Function renounceOwnership()>,\n",
       " <Function symbol()>,\n",
       " <Function totalSupply()>,\n",
       " <Function transfer(address,uint256)>,\n",
       " <Function transferFrom(address,address,uint256)>,\n",
       " <Function transferOwnership(address)>,\n",
       " <Function unpause()>]"
      ]
     },
     "execution_count": 41,
     "metadata": {},
     "output_type": "execute_result"
    }
   ],
   "source": [
    "# Retreiving all functions of the sc\n",
    "wbtc_contract.all_functions()"
   ]
  }
 ],
 "metadata": {
  "kernelspec": {
   "display_name": "Python [conda env:base] *",
   "language": "python",
   "name": "conda-base-py"
  },
  "language_info": {
   "codemirror_mode": {
    "name": "ipython",
    "version": 3
   },
   "file_extension": ".py",
   "mimetype": "text/x-python",
   "name": "python",
   "nbconvert_exporter": "python",
   "pygments_lexer": "ipython3",
   "version": "3.12.7"
  }
 },
 "nbformat": 4,
 "nbformat_minor": 5
}
