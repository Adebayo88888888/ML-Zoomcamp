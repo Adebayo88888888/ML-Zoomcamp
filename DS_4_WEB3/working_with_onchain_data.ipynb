{
 "cells": [
  {
   "cell_type": "code",
   "execution_count": 1,
   "id": "76e56d2e-582d-48ff-9cda-c24fe3186f47",
   "metadata": {},
   "outputs": [],
   "source": [
    "from web3 import Web3\n",
    "from datetime import datetime\n",
    "import requests\n",
    "import pandas as pd\n",
    "import json"
   ]
  },
  {
   "cell_type": "code",
   "execution_count": 5,
   "id": "7942d371-4943-40d3-8353-e8bf9c7ac77c",
   "metadata": {},
   "outputs": [
    {
     "name": "stdout",
     "output_type": "stream",
     "text": [
      "Is there an existing connection to the blockchain? :  True\n"
     ]
    }
   ],
   "source": [
    "# Connection to the Ethereum blockchain\n",
    "infura_url= 'https://mainnet.infura.io/v3/76210dc3bdfa4e94be8273cb29291eaa'\n",
    "web3 = Web3(Web3.HTTPProvider(infura_url))\n",
    "print(\"Is there an existing connection to the blockchain? : \", web3.is_connected())"
   ]
  },
  {
   "cell_type": "code",
   "execution_count": 23,
   "id": "8b9c9b5f-c61d-401b-af69-0cece99576d4",
   "metadata": {},
   "outputs": [],
   "source": [
    "address = '0x4838B106FCe9647Bdf1E7877BF73cE8B0BAD5f97'\n",
    "tnx = '0xaef5e205491bf2c4aa5e0a2a9e49b434455814b0b5c898ab0e1ee175b19790b8'"
   ]
  },
  {
   "cell_type": "code",
   "execution_count": 25,
   "id": "f229ca5e-df78-4223-82eb-3f08b9e2142e",
   "metadata": {},
   "outputs": [
    {
     "data": {
      "text/plain": [
       "3713498"
      ]
     },
     "execution_count": 25,
     "metadata": {},
     "output_type": "execute_result"
    }
   ],
   "source": [
    "# Retreive address nonce\n",
    "next_nonce = web3.eth.get_transaction_count(address)\n",
    "next_nonce"
   ]
  },
  {
   "cell_type": "code",
   "execution_count": 27,
   "id": "6f6a90f3-e3a0-4938-8bc3-e8c77c5ae2ca",
   "metadata": {},
   "outputs": [
    {
     "data": {
      "text/plain": [
       "3713406"
      ]
     },
     "execution_count": 27,
     "metadata": {},
     "output_type": "execute_result"
    }
   ],
   "source": [
    "tnx_nonce = web3.eth.get_transaction(tnx).nonce\n",
    "tnx_nonce"
   ]
  },
  {
   "cell_type": "code",
   "execution_count": 37,
   "id": "dd528dd6-20ac-44d7-a181-b1a3f39cf02b",
   "metadata": {},
   "outputs": [
    {
     "data": {
      "text/plain": [
       "2030048720"
      ]
     },
     "execution_count": 37,
     "metadata": {},
     "output_type": "execute_result"
    }
   ],
   "source": [
    "# Retrieve Transaction gas price\n",
    "gas_price = web3.eth.get_transaction(tnx).gasPrice\n",
    "gas_price"
   ]
  },
  {
   "cell_type": "code",
   "execution_count": 43,
   "id": "e9d9b288-cdef-47ea-80d1-7fad1ce0a867",
   "metadata": {},
   "outputs": [
    {
     "data": {
      "text/plain": [
       "21000"
      ]
     },
     "execution_count": 43,
     "metadata": {},
     "output_type": "execute_result"
    }
   ],
   "source": [
    "# Retrieve Transaction gas limit\n",
    "gas_limit = web3.eth.get_transaction(tnx).gas\n",
    "gas_limit"
   ]
  },
  {
   "cell_type": "code",
   "execution_count": 47,
   "id": "c5a5160c-a0cb-4e16-869b-38c999c5e1a0",
   "metadata": {},
   "outputs": [
    {
     "data": {
      "text/plain": [
       "21000"
      ]
     },
     "execution_count": 47,
     "metadata": {},
     "output_type": "execute_result"
    }
   ],
   "source": [
    "# Retrieve gas used for transaction\n",
    "gas_used = web3.eth.get_transaction_receipt(tnx).gasUsed\n",
    "gas_used"
   ]
  },
  {
   "cell_type": "code",
   "execution_count": 51,
   "id": "dd18e377-2aa8-462a-8a2c-d1fe27637a2f",
   "metadata": {},
   "outputs": [
    {
     "data": {
      "text/plain": [
       "'0x4675C7e5BaAFBFFbca748158bEcBA61ef3b0a263'"
      ]
     },
     "execution_count": 51,
     "metadata": {},
     "output_type": "execute_result"
    }
   ],
   "source": [
    "# Retrieve transaction recepient\n",
    "recepient = web3.eth.get_transaction(tnx).to\n",
    "recepient"
   ]
  },
  {
   "cell_type": "code",
   "execution_count": 63,
   "id": "c43a31db-cad3-43d3-8d28-640f435b6d59",
   "metadata": {},
   "outputs": [
    {
     "name": "stdout",
     "output_type": "stream",
     "text": [
      "0x4838B106FCe9647Bdf1E7877BF73cE8B0BAD5f97\n"
     ]
    },
    {
     "data": {
      "text/plain": [
       "True"
      ]
     },
     "execution_count": 63,
     "metadata": {},
     "output_type": "execute_result"
    }
   ],
   "source": [
    "#Retrieve the transaction sender. Should be equal to address defined above\n",
    "sender = web3.eth.get_transaction(tnx)['from']\n",
    "print(sender)\n",
    "sender == address"
   ]
  },
  {
   "cell_type": "code",
   "execution_count": 67,
   "id": "d33e195c-230f-44ba-b2dd-ae31db41cec3",
   "metadata": {},
   "outputs": [
    {
     "data": {
      "text/plain": [
       "0.0350497235570308"
      ]
     },
     "execution_count": 67,
     "metadata": {},
     "output_type": "execute_result"
    }
   ],
   "source": [
    "# Retrieve transaction value\n",
    "value = web3.eth.get_transaction(tnx).value\n",
    "value = value*10**-18\n",
    "value"
   ]
  },
  {
   "cell_type": "code",
   "execution_count": 69,
   "id": "b88dc9a7-5bf6-4832-b93c-07814f2d1447",
   "metadata": {},
   "outputs": [
    {
     "data": {
      "text/plain": [
       "HexBytes('0xa723533e0000000000000000000000000000000000000000000000000000000000000001')"
      ]
     },
     "execution_count": 69,
     "metadata": {},
     "output_type": "execute_result"
    }
   ],
   "source": [
    "# Decoding Transaction Input\n",
    "tnx_ba = '0xb3827bb3cca1a693ec69edb744755f64d8ff8c90f89f69cbfbfafd17b0083159'\n",
    "data_ba = web3.eth.get_transaction(tnx_ba).input\n",
    "data_ba"
   ]
  },
  {
   "cell_type": "code",
   "execution_count": 71,
   "id": "e3af01db-79f0-45f7-8d4a-b86e765b249d",
   "metadata": {},
   "outputs": [
    {
     "data": {
      "text/plain": [
       "AttributeDict({'blockHash': HexBytes('0x26537966b001e26c3c960bfb619d1af5fdd4d04c54596fb50a3a94d73bf66a69'),\n",
       " 'blockNumber': 12347114,\n",
       " 'from': '0x9909017A0F637380af916257D05c3e7dD2F6c68a',\n",
       " 'gas': 230991,\n",
       " 'gasPrice': 37000000000,\n",
       " 'hash': HexBytes('0xb3827bb3cca1a693ec69edb744755f64d8ff8c90f89f69cbfbfafd17b0083159'),\n",
       " 'input': HexBytes('0xa723533e0000000000000000000000000000000000000000000000000000000000000001'),\n",
       " 'nonce': 83,\n",
       " 'to': '0xBC4CA0EdA7647A8aB7C2061c2E118A18a936f13D',\n",
       " 'transactionIndex': 321,\n",
       " 'value': 80000000000000000,\n",
       " 'type': 0,\n",
       " 'chainId': 1,\n",
       " 'v': 38,\n",
       " 'r': HexBytes('0x045bd6f27e635fa518d415e5e220514a787a37e2352d182d481899f090ee3401'),\n",
       " 's': HexBytes('0x1c82f7ad9ef412fd86985563ff697da5d0a244113f34ffaf19deefe4e9f5f41d')})"
      ]
     },
     "execution_count": 71,
     "metadata": {},
     "output_type": "execute_result"
    }
   ],
   "source": [
    "bored_ape = web3.eth.get_transaction(tnx_ba)\n",
    "bored_ape"
   ]
  },
  {
   "cell_type": "code",
   "execution_count": 87,
   "id": "d48f67b0-08b9-46ea-b245-f890ee12bfa3",
   "metadata": {},
   "outputs": [],
   "source": [
    "sc_address = '0xBC4CA0EdA7647A8aB7C2061c2E118A18a936f13D'\n",
    "with open('./ba_abi.json') as f:\n",
    "    abi = json.load(f)"
   ]
  },
  {
   "cell_type": "code",
   "execution_count": 89,
   "id": "f9582640-95c7-4364-abc4-87591f8a32e8",
   "metadata": {},
   "outputs": [],
   "source": [
    "# We will connect the ABI, the smart contract address and the input data\n",
    "ba_contract = web3.eth.contract(address = sc_address, abi = abi)"
   ]
  },
  {
   "cell_type": "code",
   "execution_count": 81,
   "id": "25ffd2f5-a719-44af-980f-5ec6987e8f56",
   "metadata": {},
   "outputs": [
    {
     "data": {
      "text/plain": [
       "<web3._utils.datatypes.Contract at 0x16b3e19cbc0>"
      ]
     },
     "execution_count": 81,
     "metadata": {},
     "output_type": "execute_result"
    }
   ],
   "source": [
    "ba_contract"
   ]
  },
  {
   "cell_type": "code",
   "execution_count": 103,
   "id": "560b8b0e-6f56-4755-b162-ee1982a024aa",
   "metadata": {},
   "outputs": [
    {
     "ename": "AttributeError",
     "evalue": "type object 'Web3' has no attribute '__version__'",
     "output_type": "error",
     "traceback": [
      "\u001b[1;31m---------------------------------------------------------------------------\u001b[0m",
      "\u001b[1;31mAttributeError\u001b[0m                            Traceback (most recent call last)",
      "Cell \u001b[1;32mIn[103], line 1\u001b[0m\n\u001b[1;32m----> 1\u001b[0m Web3\u001b[38;5;241m.\u001b[39m__version__\n",
      "\u001b[1;31mAttributeError\u001b[0m: type object 'Web3' has no attribute '__version__'"
     ]
    }
   ],
   "source": [
    "Web3.__version__"
   ]
  },
  {
   "cell_type": "code",
   "execution_count": 107,
   "id": "8a1f058a-c7ed-4073-82ac-ac18b811e676",
   "metadata": {},
   "outputs": [
    {
     "name": "stdout",
     "output_type": "stream",
     "text": [
      "<Function mintApe(uint256)> parameters:  {'numberOfTokens': 1}\n"
     ]
    }
   ],
   "source": [
    "# The method decode_function_input() will decode the function input from the bored_ape dictionary.\n",
    "function, parameters = ba_contract.decode_function_input(bored_ape[\"input\"])\n",
    "print (function, 'parameters: ',parameters )"
   ]
  },
  {
   "cell_type": "markdown",
   "id": "d468ae9a-b3c4-4de1-9551-dcd4aab24e89",
   "metadata": {},
   "source": [
    "#### Decoding Event Logs\n",
    "\n",
    "Create a list of events listed in the object ba_contract. Loop through the abi_events list and create a dict called event_abi_hex. The dict will contain the event name as the key and the event ABI in hexadecimal format as the value"
   ]
  },
  {
   "cell_type": "code",
   "execution_count": 113,
   "id": "227c7472-47c4-4285-b539-20c23fb3be02",
   "metadata": {},
   "outputs": [],
   "source": [
    "abi_events = [abi for abi in ba_contract.abi if abi['type'] == 'event']\n",
    "event_abi_hex = {}\n",
    "for event in abi_events:\n",
    "    name = event['name']\n",
    "    inputs = \",\".join([param[\"type\"] for param in event[\"inputs\"]])\n",
    "    event_abi_human = f\"{name}({inputs})\"\n",
    "    event_abi_hex[name] = web3.to_hex(web3.keccak(text=event_abi_human))"
   ]
  },
  {
   "cell_type": "markdown",
   "id": "8ae8a0db-c922-452f-bee9-05646bf2c048",
   "metadata": {},
   "source": [
    "Retrieve the transaction receipt for the transaction_ba and loop through the logs in the receipt. For each log, it will get the event in the hexadecimal fromat from the first topic and then compare it to the event_abi_hex dict. If a match is found, it will decode the log using `process_receipt(tx_receipt)`"
   ]
  },
  {
   "cell_type": "code",
   "execution_count": 127,
   "id": "12014927-2061-4a24-9a02-8668661710bc",
   "metadata": {},
   "outputs": [
    {
     "data": {
      "text/plain": [
       "[(AttributeDict({'args': AttributeDict({'from': '0x0000000000000000000000000000000000000000',\n",
       "    'to': '0x9909017A0F637380af916257D05c3e7dD2F6c68a',\n",
       "    'tokenId': 6633}),\n",
       "   'event': 'Transfer',\n",
       "   'logIndex': 124,\n",
       "   'transactionIndex': 321,\n",
       "   'transactionHash': HexBytes('0xb3827bb3cca1a693ec69edb744755f64d8ff8c90f89f69cbfbfafd17b0083159'),\n",
       "   'address': '0xBC4CA0EdA7647A8aB7C2061c2E118A18a936f13D',\n",
       "   'blockHash': HexBytes('0x26537966b001e26c3c960bfb619d1af5fdd4d04c54596fb50a3a94d73bf66a69'),\n",
       "   'blockNumber': 12347114}),)]"
      ]
     },
     "execution_count": 127,
     "metadata": {},
     "output_type": "execute_result"
    }
   ],
   "source": [
    "tx_receipt = web3.eth.get_transaction_receipt(tnx_ba)\n",
    "decoded_logs = []\n",
    "for log in tx_receipt['logs']:\n",
    "    event_hex = web3.to_hex(log['topics'][0])\n",
    "    event_name = None\n",
    "    for name, hex_value in event_abi_hex.items():\n",
    "        if hex_value == event_hex:\n",
    "            event_name = name\n",
    "            break\n",
    "    if event_name is not None:\n",
    "        decoded_log = ba_contract.events[event_name]().process_receipt(tx_receipt)\n",
    "        decoded_logs.append(decoded_log)\n",
    "decoded_logs"
   ]
  },
  {
   "cell_type": "markdown",
   "id": "eac95d8c-a2f1-4beb-9877-e1f9797957cb",
   "metadata": {},
   "source": [
    "### Analysis of a block"
   ]
  },
  {
   "cell_type": "code",
   "execution_count": 141,
   "id": "c21b2234-2302-4c34-9b90-86e4e9764ea2",
   "metadata": {},
   "outputs": [
    {
     "data": {
      "text/plain": [
       "HexBytes('0x66bad9567fa58719857f16dba706a6d7a66edebe4ebd13cb08aabb46152b0898')"
      ]
     },
     "execution_count": 141,
     "metadata": {},
     "output_type": "execute_result"
    }
   ],
   "source": [
    "# Retrieve the parent block \n",
    "parent = web3.eth.get_block(block_identifier = 23595857).stateRoot\n",
    "parent"
   ]
  },
  {
   "cell_type": "code",
   "execution_count": 145,
   "id": "bde63925-4782-461f-b30b-88f6a2287912",
   "metadata": {},
   "outputs": [
    {
     "data": {
      "text/plain": [
       "'0x4838B106FCe9647Bdf1E7877BF73cE8B0BAD5f97'"
      ]
     },
     "execution_count": 145,
     "metadata": {},
     "output_type": "execute_result"
    }
   ],
   "source": [
    "# Retreive the beneficiary of the fee\n",
    "beneficiary = web3.eth.get_block(block_identifier = 23595857).miner\n",
    "beneficiary"
   ]
  },
  {
   "cell_type": "code",
   "execution_count": 157,
   "id": "862d0df2-731b-4f48-951e-55fa5273cbbc",
   "metadata": {},
   "outputs": [
    {
     "data": {
      "text/plain": [
       "[HexBytes('0xd7cd49c16444ba493614311cfc3e0b10d35e4062c36ec53beed1a0761c1b6969'),\n",
       " HexBytes('0xea17a40710b8c55a3f5fabf26dce04a18b86f6f51ea1c98c916f85d197a76dea'),\n",
       " HexBytes('0x393c1f09c358d34ea74bb417469d07aa55a8828d98e5eb69400a3e565bd30ef8'),\n",
       " HexBytes('0xe2f5b5bdf74cf9e2505b46c191745333ff0a809f36e6efa3d2f05cf045938103'),\n",
       " HexBytes('0xf4889347dc9e4c6539aa1a8d30fb0d37792ee71aa661cdce11aa3eb69b8e94be'),\n",
       " HexBytes('0xaf9fef50dc1620f847a8eed9abcd358a770041c4f56c41ade2b7bc26b3172256'),\n",
       " HexBytes('0xb6ad6ab91f26ba8a376c33e9a3ecb6b4b5ec6a0db1aaeefb79332422e90f1ef7'),\n",
       " HexBytes('0x5479a7cd47a221566b02987221c67306c764c3c334b28d3b87e9272183c32c47'),\n",
       " HexBytes('0x4d572ebe86d65fbed303f1cd7aabe671806ea3a64349c5666d0e38168a4f3a98'),\n",
       " HexBytes('0xb780926e7c1a3d692eb85d2aae71f0e70401c706ab5dfe6db4bf5f9eec94ffec'),\n",
       " HexBytes('0x679897232788f27f8ff381cd7a576567bff33eaf17e72d1e05f6fc7e3f3e007e'),\n",
       " HexBytes('0x224d6bfe21128d701cb473adf0afa2ad9855650b0e450da19945db6929f57966'),\n",
       " HexBytes('0xaabe42e4c1b186fa15f430663700689a3e9303d9009546fc5b731e027fe48638'),\n",
       " HexBytes('0x6256ab60d646caeec2fc05bc731a49eacd2d3a3e8c0b1cd2f23e9cab93519c1e'),\n",
       " HexBytes('0x8387cd6fca52f1dc43270122e1ea159c8a2e4a1f217bf8d0d6a96ac54b1decf7'),\n",
       " HexBytes('0x930628eec3d4edb885ff85535e891fd0d41e572fac9bb5a547d4e8966792e792'),\n",
       " HexBytes('0x069fc909736b9f446b1497731993545447a412ddf53167d422848074dfb00de0'),\n",
       " HexBytes('0x844b00879b5351ec63fb22b840fc3ed5b17ba43188ef16db7cf83d4db74e8641'),\n",
       " HexBytes('0x6c798bfc07e405cebbab77276e3a7a11601bb747a997f082cb089b7b78a3df7b'),\n",
       " HexBytes('0xaeadf3b2eb0abc69c01a6af48aebd4fb318cd7274a046f9c02ce348247b6527d'),\n",
       " HexBytes('0x957bd2a75745afaa6e95f9b5717f2af43ddc403ec5015888c7e102a8609ce892'),\n",
       " HexBytes('0xf861cb2ecbfd11256d9fa5caf2373fea6273fd4babbc624a1cd1fc4b68d2b5ad'),\n",
       " HexBytes('0xc590c640383e7b596c7a9993a6c4f666086e1cc00aeb09e1275da78cde59a2c1'),\n",
       " HexBytes('0xd22f4cb558f3b39e6586580db3aca6a46a2ff00fe68ae2dab2c96035777bfb59'),\n",
       " HexBytes('0x1867ef5c8df6baec2e810fe12a067f704a2897cba28b71677299afd630678975'),\n",
       " HexBytes('0x811294f8d22a3b579e6f2a510922f2ad0bf403729d625e1191f438ea9284b392'),\n",
       " HexBytes('0x336488c1479dc008282a244f8477a0f026042958278e9eb899b0125aba9097f8'),\n",
       " HexBytes('0x0b36e3141a49461914544f3e68839c0404b99d9e7847df6f8affd3d2a4b426d4'),\n",
       " HexBytes('0x3c9ca8c6e67589067e14471ecaa36b9d461e90b15f1e9c9b699c23c3dd9bddd5'),\n",
       " HexBytes('0x9d2839545748c45fafc70ce1ac7889da27b9a5589e6f6216747357ca59df3652'),\n",
       " HexBytes('0x9cde40cff1abc39f5325ea362ddee79d92402e7fee11690545ff0d5b8037a5ea'),\n",
       " HexBytes('0x0e30eae2a0d33634180c5a252fea3ee0f74291a61a8318842b2e52dcbe0efbb1'),\n",
       " HexBytes('0x327d20a64c73f1d4a39a7304b047ccea7fd51cd2c5e1ca625dd1cb6765636a3c'),\n",
       " HexBytes('0xdf43988f8f3c9f391052013b3bd913b0b479666ef6fd4ae886a6ff269020de3b'),\n",
       " HexBytes('0xa2ea25db1c6d4cba5edfecff2d6451685a1c01a34d87c43f5681426ac4734d0a'),\n",
       " HexBytes('0x01e393cf6fbb5f4278ccf255786eb81ae806d8c11375cdea66e37bce270d2dd7'),\n",
       " HexBytes('0x709d4c9e4843d219a927e096504f43e96048665a98494c5eeb9d953045b8309b'),\n",
       " HexBytes('0x7cb7c4e26434b70b162e7b96e6601d4375092c5643e687a77b770b6451e83e8f'),\n",
       " HexBytes('0x330f7f63b21effc302838aa682b814d51775ac649abed8f2ba8db3dc70190e69'),\n",
       " HexBytes('0x7e8ba587e2fc477901e90ea6f4202d114d0f0468f3dd2397350bac07d3ee347c'),\n",
       " HexBytes('0xdc6c6ace93c2d400ba9241097e98b8085119b6cbf24ff006f7c2226407d7bb80'),\n",
       " HexBytes('0xe9103d368a29acfdf5ecb84a6c198a2ef7121bca8eb9a31efcadd33e2e41ff7a'),\n",
       " HexBytes('0xcdc126e1959bafe88fc77bac472a29ec388eb2b0c50bc9a88ae7f2f61c4da617'),\n",
       " HexBytes('0x2cc153d9e7106119a646b3ee35e748157f85d7296717ae8e4cddc76ae50efb0f'),\n",
       " HexBytes('0xf98f0e60b35cc24fdcc339f42ab54dfdb7c9c2677c6f26500279d09e7de840d9'),\n",
       " HexBytes('0x1a0a72dacd6f85856f92e706519e90f24890b4171ad708f65926838b58382d51'),\n",
       " HexBytes('0x56a17de2ca32b7891865e156216fc2a040dbef10f3498dc8bb14d1a6bc90ed6b'),\n",
       " HexBytes('0x2c511f6fcc57deb96043b6c0339adfed71c047408be8a52d6776513543d3b9c3'),\n",
       " HexBytes('0xea10dc9846c6d512d83e5b43888d39d701f27c4fba4b2a783cebd0e6f2d982e7'),\n",
       " HexBytes('0xc9b391c204bddeb1dc11e559695ed8b3ce1504a07495edf1a73ab7791a14c6ca'),\n",
       " HexBytes('0xbd188c9fb610c33dab393fa07601a7a58ad3ef7af3186cbee190092b9526f146'),\n",
       " HexBytes('0x94930f4e0a12110cbf35c10ab5e6b9f458d342d4f2455ea4bdf11749c4c143ea'),\n",
       " HexBytes('0x59c67db621035943229f45bdb1eaea9dadb08bb631fd6d1d1e482c1b88c1e672'),\n",
       " HexBytes('0x613a02130619d7b5012fa59913fce719d838ec26875be2bfaf9dc9415079a2c6'),\n",
       " HexBytes('0x67ea686b505f7559755c8e0de4d3040f45c1417e801097aa0bc5794da4c69bcb'),\n",
       " HexBytes('0xda25507fab7cc1a34bcf6632336d87ca8bfefdca68b82ea0f366539236b290d0'),\n",
       " HexBytes('0x199ceafcd8e3cc3bdae8e3575c4a731bfa98cb709e88eef2afa952d1b31424aa'),\n",
       " HexBytes('0x2f3c8af141601054ebfea2a681b8c8437eedcf952d0db6dcca77cfbd9171c575'),\n",
       " HexBytes('0x618e0c081b6447ababc9f31162b3594c16d00641acaa46bfde791c1f0157a018'),\n",
       " HexBytes('0xf04b24f462c1954276230311befd9011aaf9e78abdae0c2de2a7788338020aec'),\n",
       " HexBytes('0xa541101ecc1472fe0371e28119a24373194986336af4d6ec9c692f8de4ef31d3'),\n",
       " HexBytes('0xe83d31530eddb018c16923b5ecd006993c5cd914d4997750e1f5c018e9642755'),\n",
       " HexBytes('0xd012915aaea721ca1cda940f6220db23d19d1d9a2661b2a9cd6ee4744f9744d0'),\n",
       " HexBytes('0xe4a083358bc5b7ae597351c32d56e2a931ee6ba0d6af6a9fb5c4682d901a46af'),\n",
       " HexBytes('0x1b8dfc070f1458901dbc9a74ab394129854ea439e459d9deb462da6ee9fb5be3'),\n",
       " HexBytes('0x5f8302c96bbee0f9e172226b3dcb99e6fff8556f6eb8f00ae10e296b4c1d26b0'),\n",
       " HexBytes('0x3724433c2271dc62f37a9f1e55f63d6e14b1c4ac8b6a9f45bbe35037b84e9449'),\n",
       " HexBytes('0x7bc73eafba72e3c71546b9acf11f3846fbe21e7bdf72d72e232ab9fd2cd1085e'),\n",
       " HexBytes('0x363857ce9037c4f1ee75768fcd9be724c04fe20770def1f5c84af141c6c7b1e4'),\n",
       " HexBytes('0x478100ca827715e0504cacc55bb978764d64460eeb235c03f0febff0e5626996'),\n",
       " HexBytes('0xffada97dffa007e9225adc3a5de0861878b1ba1c80a63dd9df082572a3f55eba'),\n",
       " HexBytes('0x46940a0aee7823b13e1bf428210c53171c23931fc9c141d7f78d402b77758540'),\n",
       " HexBytes('0x493dc850ebed7cf10045dd60a4eaa1dd9332c14994fdaafab6d341a7da327f5b'),\n",
       " HexBytes('0x0285089b825abf19b5a6edb395d8a6bbdd9477bf2d09ca3f91f77e62df3514ac'),\n",
       " HexBytes('0x566fc1de65db7c03a60f7374ac6725bca5c5b420935787d7c117feac121f7b41'),\n",
       " HexBytes('0x2de30740ac21f036ae37634db67b98842178a13cb5b58028b4794e0a5b88e110'),\n",
       " HexBytes('0xdf2b750fd692b2f5f5f8efcf010c796576b60ee7f70f4772bebeffb65235181a'),\n",
       " HexBytes('0x22f93f155807061574d0ee75f2e3670b0e4e9643028eed064baafcfeb74faf06'),\n",
       " HexBytes('0xa86913c8c06f4ba9aca82eae7d4b5d6f85139368f764a8e30b30530601db635e'),\n",
       " HexBytes('0x5375117d604183909ff0cae136086619120e8210bb48949edaf1e389c9f506f8'),\n",
       " HexBytes('0x42a3ad94f327ebbbf9cdf2577f2e296d680a0ad025f880ad6ba2bb617a2a13a9'),\n",
       " HexBytes('0x37d15fcd404f3f834059ad65f6507b72ce2c45175a102c72ea3feea3873a91f3'),\n",
       " HexBytes('0xdcb70732aa28b0d0de111db05b2572a1234cf7d5c6373a1f6adad374fc4ff85f'),\n",
       " HexBytes('0xba2e514ce7d809ac7b8c0321589af59f73c331498e9be71ae41a8dad3f3f8e9c'),\n",
       " HexBytes('0xeb9170eb562e59370941319d470a559c8b7c364dfa05187be63232a2c6aeb329'),\n",
       " HexBytes('0x857db99ff101bd6e8fd480b41aa731e72c40aa5772e3a3d8987beb925320dce3'),\n",
       " HexBytes('0xed9f05d050bdc48cade2d25c0a73c02522344326ec08b5f7b684ac013500c516'),\n",
       " HexBytes('0x550622221bc57e62b73c803f409c49e78fa69cd06a23d01b2b1303651ac18d1a'),\n",
       " HexBytes('0x234d659730324274874a1b1d11ae66910e76e861c6cd2b3c622817883d0d6617'),\n",
       " HexBytes('0xbc06f3d7c3e185fb03ed3e959b613172dc6e8a340dc7b83bb5a7935a6260bd43'),\n",
       " HexBytes('0x54c32a8a9c067cf921c283ecc896e430cc99ee8f5c17c52d3e4ffa2827364eae'),\n",
       " HexBytes('0xd9c1ba1d18f2dcca415ff351b141430414c0b659ed77db049df047fde3d77bad'),\n",
       " HexBytes('0xa6f3c7178f7255d1d435ac4d38dc150d9eaca1760bb510bb9429f9a2752e0ed0'),\n",
       " HexBytes('0xcfb5a7ed69b7d43da6c5cb151dd3fa70c90034e00f9d1f7201f5aa89d83e7170'),\n",
       " HexBytes('0x45b2430a1a7f573db2fa47668721d395511c0fca917f620cd104eee702157ec8'),\n",
       " HexBytes('0xa178d06323fdab47304095e2d91eecbeb431ee3047f51dc41ada76457d7c6bad'),\n",
       " HexBytes('0x88ab00994b4e975154b7df574a8f1cf20ae751357ae51bb01a9904662adcf666'),\n",
       " HexBytes('0x9f687bdeb7d26a16358e06196ffea7188c30a9040e3ac2464061d47d1f2b2c60'),\n",
       " HexBytes('0x9bcac73f81493d423af4a201ae497a9d9af14489a23807a0aeb7151edef75fef'),\n",
       " HexBytes('0xb8258ebb6a6a07d9b797ecb62a9867668b7d2813d8532812827c3e9a49e6a29a'),\n",
       " HexBytes('0xd5dd1d24cfac58b065e6b2b54b42e03d5d8b1ef532bc37f1a1211a38f24890cb'),\n",
       " HexBytes('0x4dec3ce70128093fcf304d29c00c6befbdb846b3e1d2ba2f4669043ea3dba2c5'),\n",
       " HexBytes('0xabd6e37d648fb31b6325be36b6cd295a76a5dbcaddba23148752cf3ffcf534ec'),\n",
       " HexBytes('0xcfcde82ccd166f47cf4f9dd7054770c1422700bf74f392fc634eef7815d1fdbf'),\n",
       " HexBytes('0x05f3f592c70066057dcb04083829f45ad02587a5319a7bed3e50add72b1acaf4'),\n",
       " HexBytes('0x9a2d1c75cee451cb83e7941feb0cf3e84a69bcf1de079b38f3b6cea76882065a'),\n",
       " HexBytes('0xdc2eb448821921e1d981137e8788da1319e9d3b1f1b847009f57bb386caa3545'),\n",
       " HexBytes('0xfcf49d3a573909b473d4977a1540dd89c69ec0128d9ce64292773aabb71c9dcd'),\n",
       " HexBytes('0xe8a06abee7343bca8054e75ad0337a7dea890064e9329e09a05d5274b7bd408c'),\n",
       " HexBytes('0x7a16777f7fd4ddf2b47371eafacfb3615e7b73b9512e8977e75221cb26eaf406'),\n",
       " HexBytes('0xec39ffdc5214e03be764027b0b321269931c59c0791849379941ef7153482833'),\n",
       " HexBytes('0x2ba3b6ec2c8cf010dc534a5ca362d1fb60d5aa3377bb442e7209957565f753fb')]"
      ]
     },
     "execution_count": 157,
     "metadata": {},
     "output_type": "execute_result"
    }
   ],
   "source": [
    "transactions_list= (web3.eth.get_block(block_identifier=15813288).transactions)\n",
    "transactions_list"
   ]
  },
  {
   "cell_type": "code",
   "execution_count": 161,
   "id": "6093ab88-4e2b-4945-a01f-95a306389403",
   "metadata": {},
   "outputs": [
    {
     "data": {
      "text/plain": [
       "112"
      ]
     },
     "execution_count": 161,
     "metadata": {},
     "output_type": "execute_result"
    }
   ],
   "source": [
    "tnx_len= len(web3.eth.get_block(block_identifier=15813288).transactions)\n",
    "tnx_len"
   ]
  }
 ],
 "metadata": {
  "kernelspec": {
   "display_name": "Python [conda env:base] *",
   "language": "python",
   "name": "conda-base-py"
  },
  "language_info": {
   "codemirror_mode": {
    "name": "ipython",
    "version": 3
   },
   "file_extension": ".py",
   "mimetype": "text/x-python",
   "name": "python",
   "nbconvert_exporter": "python",
   "pygments_lexer": "ipython3",
   "version": "3.12.7"
  }
 },
 "nbformat": 4,
 "nbformat_minor": 5
}
